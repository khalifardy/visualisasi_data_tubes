{
 "cells": [
  {
   "cell_type": "code",
   "execution_count": null,
   "metadata": {},
   "outputs": [],
   "source": [
    "import pandas as pd\n",
    "import numpy as np\n",
    "import panel as pn\n",
    "pn.extension('tabulator')\n",
    "\n",
    "import hvplot.pandas"
   ]
  },
  {
   "cell_type": "code",
   "execution_count": null,
   "metadata": {},
   "outputs": [],
   "source": [
    "df = pd.read_csv('/home/project/VISDAT/visualisasi_data_tubes/dashboard_emisi_karbon/owid-co2-data.csv')\n",
    "df"
   ]
  },
  {
   "cell_type": "code",
   "execution_count": null,
   "metadata": {},
   "outputs": [],
   "source": [
    "df.columns"
   ]
  },
  {
   "cell_type": "code",
   "execution_count": null,
   "metadata": {},
   "outputs": [],
   "source": [
    "df[df['country'] == 'World']"
   ]
  },
  {
   "cell_type": "code",
   "execution_count": null,
   "metadata": {},
   "outputs": [],
   "source": [
    "#isi data kosong dengan 0 dan membuat GDP per capita\n",
    "df = df.fillna(0)\n",
    "df['gdp_per_capita'] = np.where(df['population'] != 0, df['gdp']/df['population'],0)"
   ]
  },
  {
   "cell_type": "code",
   "execution_count": null,
   "metadata": {},
   "outputs": [],
   "source": [
    "# membuat DataFrame Pipeline interaktif\n",
    "idf = df.interactive()"
   ]
  },
  {
   "cell_type": "code",
   "execution_count": null,
   "metadata": {},
   "outputs": [],
   "source": [
    "#Mendefenisikan Panel Widget\n",
    "slide_tahun = pn.widgets.IntSlider(name='Slider Tahun',start=1750,end=2020,step=5,value=1850 )\n",
    "slide_tahun"
   ]
  },
  {
   "cell_type": "code",
   "execution_count": null,
   "metadata": {},
   "outputs": [],
   "source": [
    "#radio buttons untuk mengukur CO2\n",
    "yaxis_co2 = pn.widgets.RadioButtonGroup(\n",
    "    name='Y axis',\n",
    "    options = ['co2','co2_per_capita', ],\n",
    "    button_type='success'\n",
    ")"
   ]
  },
  {
   "cell_type": "code",
   "execution_count": null,
   "metadata": {},
   "outputs": [],
   "source": [
    "benua = [\n",
    "    'world',\n",
    "    'Asia',\n",
    "    'Oceania',\n",
    "    'Europe',\n",
    "    'Africa',\n",
    "    'North America',\n",
    "    'South America',\n",
    "    'Antartica'\n",
    "    \n",
    "    \n",
    "]\n",
    "\n",
    "co2_pipeline = (\n",
    "        idf[(idf.year <= slide_tahun) & \n",
    "        (idf.country.isin(benua))\n",
    "    ]\n",
    "    .groupby(['country','year'])[yaxis_co2].mean()\n",
    "    .to_frame()\n",
    "    .reset_index()\n",
    "    .sort_values(by='year')\n",
    "    .reset_index(drop=True)\n",
    ")"
   ]
  },
  {
   "cell_type": "code",
   "execution_count": null,
   "metadata": {},
   "outputs": [],
   "source": [
    "co2_pipeline"
   ]
  },
  {
   "cell_type": "code",
   "execution_count": null,
   "metadata": {},
   "outputs": [],
   "source": [
    "co2_plot = co2_pipeline.hvplot(x='year', by ='country', y=yaxis_co2, line_width = 2, title= 'Emisi CO2 berdasarkan kontinen')\n",
    "co2_plot"
   ]
  },
  {
   "cell_type": "code",
   "execution_count": null,
   "metadata": {},
   "outputs": [],
   "source": [
    "co2_tabel = co2_pipeline.pipe(pn.widgets.Tabulator, pagination='remote', page_size=10, sizing_mode='stretch_width')\n",
    "co2_tabel"
   ]
  },
  {
   "cell_type": "code",
   "execution_count": null,
   "metadata": {},
   "outputs": [],
   "source": [
    "co2_gdp_scat_pipeline = (\n",
    "    idf[(idf.year == slide_tahun) & \n",
    "        (~(idf.country.isin(benua)))\n",
    "    ]\n",
    "    .groupby(['country','year','gdp_per_capita'])['co2'].mean()\n",
    "    .to_frame()\n",
    "    .reset_index()\n",
    "    .sort_values(by='year')\n",
    "    .reset_index(drop=True)\n",
    ")"
   ]
  },
  {
   "cell_type": "code",
   "execution_count": null,
   "metadata": {},
   "outputs": [],
   "source": [
    "co2_gdp_scat = co2_gdp_scat_pipeline.hvplot(x='gdp_per_capita', y='co2', kind='scatter',alpha=0.7, title='CO2 vs GDP per Capita', size=80, by='country',legend=False, height=500, width = 500)\n",
    "co2_gdp_scat"
   ]
  },
  {
   "cell_type": "code",
   "execution_count": null,
   "metadata": {},
   "outputs": [],
   "source": [
    "yaxis_co2_source = pn.widgets.RadioButtonGroup(\n",
    "    name = 'Y axis',\n",
    "    options = ['coal_co2', 'oil_co2', 'gas_co2'],\n",
    "    button_type='success'\n",
    ")\n",
    "\n",
    "kontinen_tanpa_world = [\n",
    "    'Asia',\n",
    "    'Oceania',\n",
    "    'Europe',\n",
    "    'Africa',\n",
    "    'North America',\n",
    "    'South America',\n",
    "    'Antartica'\n",
    "]\n",
    "\n",
    "cos_source_bar_pipeline = (\n",
    "    idf[(idf.year == slide_tahun) & \n",
    "        (idf.country.isin(kontinen_tanpa_world))\n",
    "    ]\n",
    "    .groupby(['country','year'])[yaxis_co2_source].sum()\n",
    "    .to_frame()\n",
    "    .reset_index()\n",
    "    .sort_values(by='year')\n",
    "    .reset_index(drop=True)\n",
    ")"
   ]
  },
  {
   "cell_type": "code",
   "execution_count": null,
   "metadata": {},
   "outputs": [],
   "source": [
    "co2_source_bar_plot = cos_source_bar_pipeline.hvplot(x='country', y=yaxis_co2_source, title='CO2 Source by Continent', kind='bar')\n",
    "co2_source_bar_plot"
   ]
  },
  {
   "cell_type": "code",
   "execution_count": null,
   "metadata": {},
   "outputs": [],
   "source": [
    "# Layout usig Template\n",
    "\n",
    "template = pn.template.FastListTemplate(\n",
    "    title = 'World CO2 emission dashboard',\n",
    "    sidebar = [\n",
    "        pn.pane.Markdown(\"# CO2 Emisi dan perubahan iklim\"),\n",
    "        pn.pane.Markdown(\"#### Emisi KArbondiokasida adalah salah satu penyebab utama perubahan iklim global. Dashboard ini memungkinkan Anda untuk memeriksa emisi CO2 berdasarkan tahun, benua, dan sumber.\"),\n",
    "        pn.pane.PNG('/home/project/VISDAT/visualisasi_data_tubes/dashboard_emisi_karbon/climate_day.png', sizing_mode='scale_both'),\n",
    "        pn.pane.Markdown(\"## Settings\"),\n",
    "        slide_tahun\n",
    "    ],\n",
    "    main=[\n",
    "        pn.Row(\n",
    "            pn.Column(\n",
    "                yaxis_co2,\n",
    "                co2_plot.panel(width=700),margin=(0,25)\n",
    "            ),\n",
    "            co2_tabel.panel(width=500)\n",
    "            \n",
    "        ),\n",
    "        pn.Row(\n",
    "            pn.Column(\n",
    "                co2_gdp_scat.panel(width=600),\n",
    "                margin=(0,25)\n",
    "            ),\n",
    "            pn.Column(\n",
    "                yaxis_co2_source,\n",
    "                co2_source_bar_plot.panel(width=600),\n",
    "            )\n",
    "        )\n",
    "    ],\n",
    "    accent_base_color = '#88d8b0',\n",
    "    header_background = '#88d8b0',\n",
    ")\n",
    "\n",
    "template.servable()"
   ]
  }
 ],
 "metadata": {
  "kernelspec": {
   "display_name": ".env",
   "language": "python",
   "name": "python3"
  },
  "language_info": {
   "codemirror_mode": {
    "name": "ipython",
    "version": 3
   },
   "file_extension": ".py",
   "mimetype": "text/x-python",
   "name": "python",
   "nbconvert_exporter": "python",
   "pygments_lexer": "ipython3",
   "version": "3.11.4"
  }
 },
 "nbformat": 4,
 "nbformat_minor": 2
}
